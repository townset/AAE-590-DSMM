{
  "nbformat": 4,
  "nbformat_minor": 0,
  "metadata": {
    "colab": {
      "provenance": [],
      "authorship_tag": "ABX9TyMEXUqt9PhZ4FM7D62WVcWN",
      "include_colab_link": true
    },
    "kernelspec": {
      "name": "python3",
      "display_name": "Python 3"
    },
    "language_info": {
      "name": "python"
    }
  },
  "cells": [
    {
      "cell_type": "markdown",
      "metadata": {
        "id": "view-in-github",
        "colab_type": "text"
      },
      "source": [
        "<a href=\"https://colab.research.google.com/github/townset/AAE-590-DSMM/blob/main/inclass_310_2.ipynb\" target=\"_parent\"><img src=\"https://colab.research.google.com/assets/colab-badge.svg\" alt=\"Open In Colab\"/></a>"
      ]
    },
    {
      "cell_type": "code",
      "source": [
        "# Import libraries\n",
        "import numpy as np\n",
        "import matplotlib.pyplot as plt\n",
        "from sklearn.svm import SVR\n",
        "from sklearn.preprocessing import StandardScaler\n",
        "# Sample dataset (Position vs. Salary)\n",
        "X = np.array([[1], [2], [3], [4], [5], [6], [7], [8], [9], [10]]) # Position level\n",
        "y = np.array([45000, 50000, 60000, 80000, 110000, 150000, 200000, 300000, 500000, 1000000]) # Salary\n",
        "# Feature scaling\n",
        "scaler_X = StandardScaler()\n",
        "scaler_y = StandardScaler()\n",
        "X_scaled = scaler_X.fit_transform(X)\n",
        "y_scaled = scaler_y.fit_transform(y.reshape(-1, 1)).ravel()\n",
        "# Train SVR model with RBF kernel\n",
        "regressor = SVR(kernel='linear', C=1e3, gamma=0.5)\n",
        "regressor.fit(X_scaled, y_scaled)\n",
        "# Generate smooth curve for visualization\n",
        "X_grid = np.arange(min(X_scaled), max(X_scaled), 0.01).reshape(-1, 1)\n",
        "y_pred = regressor.predict(X_grid)\n",
        "# Inverse scaling for interpretability\n",
        "X_plot = scaler_X.inverse_transform(X_grid)\n",
        "y_plot = scaler_y.inverse_transform(y_pred.reshape(-1, 1))\n",
        "# Plot results\n",
        "plt.scatter(scaler_X.inverse_transform(X_scaled), scaler_y.inverse_transform(y_scaled.reshape(-1, 1)),\n",
        "color='red', label='Data')\n",
        "plt.plot(X_plot, y_plot, color='blue', label='SVR (RBF Kernel)')\n",
        "plt.title('Support Vector Regression')\n",
        "plt.xlabel('Position Level')\n",
        "plt.ylabel('Salary')\n",
        "plt.legend()\n",
        "plt.show()"
      ],
      "metadata": {
        "id": "bT881ooHAmVK"
      },
      "execution_count": null,
      "outputs": []
    }
  ]
}