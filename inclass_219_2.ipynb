{
  "nbformat": 4,
  "nbformat_minor": 0,
  "metadata": {
    "colab": {
      "provenance": [],
      "authorship_tag": "ABX9TyPFIA3aaZ0lBDOUEI6CL6nC",
      "include_colab_link": true
    },
    "kernelspec": {
      "name": "python3",
      "display_name": "Python 3"
    },
    "language_info": {
      "name": "python"
    }
  },
  "cells": [
    {
      "cell_type": "markdown",
      "metadata": {
        "id": "view-in-github",
        "colab_type": "text"
      },
      "source": [
        "<a href=\"https://colab.research.google.com/github/townset/AAE-590-DSMM/blob/main/inclass_219_2.ipynb\" target=\"_parent\"><img src=\"https://colab.research.google.com/assets/colab-badge.svg\" alt=\"Open In Colab\"/></a>"
      ]
    },
    {
      "cell_type": "code",
      "execution_count": 23,
      "metadata": {
        "colab": {
          "base_uri": "https://localhost:8080/"
        },
        "id": "FBHc40CzMVZk",
        "outputId": "b923490e-3a9b-44f9-efc3-787bc3d41997"
      },
      "outputs": [
        {
          "output_type": "stream",
          "name": "stdout",
          "text": [
            "Predicted yield strength: 744.00 Mpa\n",
            "Uncertainty: 0.02 MPa\n"
          ]
        },
        {
          "output_type": "stream",
          "name": "stderr",
          "text": [
            "/usr/local/lib/python3.11/dist-packages/sklearn/gaussian_process/_gpr.py:660: ConvergenceWarning: lbfgs failed to converge (status=2):\n",
            "ABNORMAL_TERMINATION_IN_LNSRCH.\n",
            "\n",
            "Increase the number of iterations (max_iter) or scale the data as shown in:\n",
            "    https://scikit-learn.org/stable/modules/preprocessing.html\n",
            "  _check_optimize_result(\"lbfgs\", opt_res)\n"
          ]
        }
      ],
      "source": [
        "import numpy as np\n",
        "from sklearn.gaussian_process import GaussianProcessRegressor\n",
        "from sklearn.gaussian_process.kernels import RBF, ConstantKernel as C, Matern\n",
        "\n",
        "X = np.array([[0.1, 0.5, 0.2, 0.1],\n",
        "              [0.2, 0.6, 0.3, 0.2],\n",
        "              [0.15, 0.55, 0.25, 0.15],\n",
        "\n",
        "              [0.15, 0.55, 0.25, 0.15],\n",
        "              [0.25, 0.65, 0.35, 0.25],\n",
        "              [0.1, 0.5, 0.2, 0.1],\n",
        "\n",
        "              [1.1, 1.5, 1.2, 1.1],\n",
        "              [1.2, 1.6, 1.3, 1.2],\n",
        "              [1.15, 1.55, 1.25, 1.15],\n",
        "\n",
        "              [0.2, 0.6, 0.3, 0.2],\n",
        "              [0.3, 0.7, 0.4, 0.3],\n",
        "              [0.25, 0.65, 0.35, 0.25]])\n",
        "y = np.array([500, 550, 525, 600, 650, 625, 700, 750, 725, 800, 850, 825])\n",
        "\n",
        "kernel = C(1.0) * RBF([1.0, 1.0, 1.0, 1.0]) + Matern(length_scale=[1.0, 1.0, 1.0, 1.0], nu=1.5)\n",
        "\n",
        "gp = GaussianProcessRegressor(kernel=kernel, n_restarts_optimizer=10)\n",
        "gp.fit(X, y)\n",
        "\n",
        "X_new = np.array([[0.25, 0.7, 0.35, 0.25]])\n",
        "y_pred, sigma = gp.predict(X_new, return_std=True)\n",
        "\n",
        "print(f\"Predicted yield strength: {y_pred[0]:.2f} Mpa\")\n",
        "print(f\"Uncertainty: {sigma[0]:.2f} MPa\")"
      ]
    }
  ]
}