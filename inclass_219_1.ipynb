{
  "nbformat": 4,
  "nbformat_minor": 0,
  "metadata": {
    "colab": {
      "provenance": [],
      "authorship_tag": "ABX9TyOYoGwOMasEnggGf5g4hHus",
      "include_colab_link": true
    },
    "kernelspec": {
      "name": "python3",
      "display_name": "Python 3"
    },
    "language_info": {
      "name": "python"
    }
  },
  "cells": [
    {
      "cell_type": "markdown",
      "metadata": {
        "id": "view-in-github",
        "colab_type": "text"
      },
      "source": [
        "<a href=\"https://colab.research.google.com/github/townset/AAE-590-DSMM/blob/main/inclass_219_1.ipynb\" target=\"_parent\"><img src=\"https://colab.research.google.com/assets/colab-badge.svg\" alt=\"Open In Colab\"/></a>"
      ]
    },
    {
      "cell_type": "code",
      "execution_count": 4,
      "metadata": {
        "colab": {
          "base_uri": "https://localhost:8080/"
        },
        "id": "FBHc40CzMVZk",
        "outputId": "fa56f0d8-dd23-496d-84d9-e162c48a9713"
      },
      "outputs": [
        {
          "output_type": "stream",
          "name": "stdout",
          "text": [
            "Predicted yield strength: 540.45 Mpa\n",
            "Uncertainty: 0.10 MPa\n"
          ]
        },
        {
          "output_type": "stream",
          "name": "stderr",
          "text": [
            "/usr/local/lib/python3.11/dist-packages/sklearn/gaussian_process/kernels.py:452: ConvergenceWarning: The optimal value found for dimension 0 of parameter k1__constant_value is close to the specified upper bound 1000.0. Increasing the bound and calling fit again may find a better value.\n",
            "  warnings.warn(\n"
          ]
        }
      ],
      "source": [
        "import numpy as np\n",
        "from sklearn.gaussian_process import GaussianProcessRegressor\n",
        "from sklearn.gaussian_process.kernels import RBF, ConstantKernel as C\n",
        "\n",
        "X = np.array([[0.1, 0.5, 0.2, 0.1],\n",
        "              [0.2, 0.6, 0.3, 0.2],\n",
        "              [0.15, 0.55, 0.25, 0.15]])\n",
        "y = np.array([500, 550, 525])\n",
        "\n",
        "kernel = C(1.0, (1e-3, 1e3)) * RBF([1.0, 1.0, 1.0, 1.0], (1e-2, 1e2))\n",
        "\n",
        "gp = GaussianProcessRegressor(kernel=kernel, n_restarts_optimizer=10)\n",
        "gp.fit(X, y)\n",
        "\n",
        "X_new = np.array([[0.18, 0.58, 0.28, 0.18]])\n",
        "y_pred, sigma = gp.predict(X_new, return_std=True)\n",
        "\n",
        "print(f\"Predicted yield strength: {y_pred[0]:.2f} Mpa\")\n",
        "print(f\"Uncertainty: {sigma[0]:.2f} MPa\")"
      ]
    }
  ]
}